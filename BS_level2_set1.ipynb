{
 "cells": [
  {
   "cell_type": "code",
   "execution_count": 5,
   "id": "99edc756",
   "metadata": {},
   "outputs": [
    {
     "data": {
      "text/plain": [
       "0.028402857142857153"
      ]
     },
     "execution_count": 5,
     "metadata": {},
     "output_type": "execute_result"
    }
   ],
   "source": [
    "import pandas as pd\n",
    "import numpy as np\n",
    "\n",
    "\n",
    "# 1Q:-Look at the data given below. Plot the data, find the outliers and find out mean,standard deviation,variance\n",
    "df = pd.read_csv(\"D:/Assignments/assignment2/set1/1Q.csv\")\n",
    "df\n",
    "df.boxplot(column=[\"Measure X\"],vert=False) #  outlier at 0.9\n",
    "df[\"Measure X\"].mean()\n",
    "df[\"Measure X\"].std()\n",
    "df[\"Measure X\"].var()\n",
    "\n",
    "#=============================================================================>>>>>>>>>>>>\n",
    "\n",
    "# 4Q:- AT&T was running commercials in 1990 aimed at luring back customers who had switched to one of the other long-distance phone service providers. One such commercial shows a businessman trying to reach Phoenix and mistakenly getting Fiji, where a half-naked native on a beach responds incomprehensibly in Polynesian. When asked about this advertisement, AT&T admitted that the portrayed incident did not actually take place but added that this was an enactment of something that “could happen.” Suppose that one in 200 long-distance telephone calls is misdirected. What is the probability that at least one in five attempted telephone calls reaches the wrong number? (Assume independence of attempts.)\n",
    "\n",
    "from scipy.stats import binom\n",
    "population_size=200\n",
    "n=5 #sample size\n",
    "p=1/200 #one in 200 calls misdirected \n",
    "\n",
    "bi = binom(n=5, p=1/200) # n, p\n",
    "#P(X>=1)=1,2,3,4,5\n",
    "prob=1-bi.cdf(0)\n",
    "print(\"The probability that at least one in five attempted telephone calls reaches the wrong number is \"\n",
    "      ,prob.round(3))\n",
    "#=============================================================================>>>>>>>>>>>>\n",
    "# 5Q: 5.Returns on a certain business venture, to the nearest $1,000, are known to follow the following probability distribution\n",
    "        ## What is the good measure of the risk involved in a venture of this kind? Compute this measure\n",
    "                ## Risk may be concidered as deviation\n",
    "import numpy as np\n",
    "\n",
    "X = [-2000, -1000, 0, 1000, 2000, 3000]\n",
    "prob = [0.1, 0.1, 0.2, 0.2, 0.3, 0.1]\n",
    "\n",
    "mean = np.average(X, weights=prob)\n",
    "st_d = np.sqrt(np.average((X - mean) ** 2, weights=prob))\n",
    "\n",
    "print(\"Standard Deviation:\", st_d) \n",
    "\n",
    " "
   ]
  },
  {
   "cell_type": "code",
   "execution_count": null,
   "id": "87062c99",
   "metadata": {},
   "outputs": [],
   "source": []
  }
 ],
 "metadata": {
  "kernelspec": {
   "display_name": "Python 3 (ipykernel)",
   "language": "python",
   "name": "python3"
  },
  "language_info": {
   "codemirror_mode": {
    "name": "ipython",
    "version": 3
   },
   "file_extension": ".py",
   "mimetype": "text/x-python",
   "name": "python",
   "nbconvert_exporter": "python",
   "pygments_lexer": "ipython3",
   "version": "3.10.9"
  }
 },
 "nbformat": 4,
 "nbformat_minor": 5
}
