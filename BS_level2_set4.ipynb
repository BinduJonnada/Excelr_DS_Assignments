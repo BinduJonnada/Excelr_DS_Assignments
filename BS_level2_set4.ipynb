{
 "cells": [
  {
   "cell_type": "code",
   "execution_count": 1,
   "id": "e2eb2fe6",
   "metadata": {},
   "outputs": [
    {
     "name": "stdout",
     "output_type": "stream",
     "text": [
      "Probability of investigation is 21.13 %\n",
      "Probability of investigation is 21.13 %\n"
     ]
    },
    {
     "data": {
      "text/plain": [
       "245.86240000000004"
      ]
     },
     "execution_count": 1,
     "metadata": {},
     "output_type": "execute_result"
    }
   ],
   "source": [
    "# 3.Auditors at a small community bank randomly sample 100 withdrawal transactions made during the week at an ATM machine located near the bank’s main branch. Over the past 2 years, the average withdrawal amount has been $50 with a standard deviation of $40. Since audit investigations are typically expensive, the auditors decide to not initiate further investigations if the mean transaction amount of the sample is between $45 and $55. What is the probability that in any given week, there will be an investigation?\n",
    "\n",
    "mean = 50\n",
    "std = 40\n",
    "sample_size = 100\n",
    "\n",
    "std_error = std/ (sample_size)**0.5\n",
    "\n",
    "# Z scores for lower and upper \n",
    "Z1 = (45-mean)/std_error\n",
    "Z2 = (55-mean)/std_error\n",
    "\n",
    "# Probability\n",
    "import scipy.stats as stats\n",
    "P = stats.norm.cdf(Z1)+(1-stats.norm.cdf(Z2))\n",
    "P\n",
    "print(\"Probability of investigation is\",(P*100).round(3),\"%\")\n",
    "\n",
    "\n",
    "\n",
    "## 4.\tThe auditors from the above example would like to maintain the probability of investigation to 5%. Which of the following represents the minimum number transactions that they should sample if they do not want to change the thresholds of 45 and 55? Assume that the sample statistics remain unchanged.\n",
    "\n",
    "mean1 = 45 \n",
    "mean2 = 55\n",
    "std = 40\n",
    "sample_size = 100\n",
    "\n",
    "standard_error = std/ (sample_size)**0.5\n",
    "\n",
    "# Z scores for lower and upper \n",
    "Z1 = (50-mean1)/standard_error\n",
    "Z1\n",
    "Z2 = (50-mean2)/standard_error\n",
    "Z2\n",
    "# Probability\n",
    "import scipy.stats as stats\n",
    "P = stats.norm.cdf(Z2)+(1-stats.norm.cdf(Z1))\n",
    "P\n",
    "print(\"Probability of investigation is\",(P*100).round(2),\"%\")\n",
    "\n",
    "\n",
    "required_prob = 0.05\n",
    "sample_size_required = ((std*(1.96))/(50-mean1)) ** 2\n",
    "sample_size_required"
   ]
  },
  {
   "cell_type": "code",
   "execution_count": null,
   "id": "40bd6873",
   "metadata": {},
   "outputs": [],
   "source": []
  }
 ],
 "metadata": {
  "kernelspec": {
   "display_name": "Python 3 (ipykernel)",
   "language": "python",
   "name": "python3"
  },
  "language_info": {
   "codemirror_mode": {
    "name": "ipython",
    "version": 3
   },
   "file_extension": ".py",
   "mimetype": "text/x-python",
   "name": "python",
   "nbconvert_exporter": "python",
   "pygments_lexer": "ipython3",
   "version": "3.10.9"
  }
 },
 "nbformat": 4,
 "nbformat_minor": 5
}
